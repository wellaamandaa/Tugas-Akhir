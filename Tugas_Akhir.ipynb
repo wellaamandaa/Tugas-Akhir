{
  "nbformat": 4,
  "nbformat_minor": 0,
  "metadata": {
    "colab": {
      "provenance": [],
      "authorship_tag": "ABX9TyN626KUI3tivQFoAeJi4R3L",
      "include_colab_link": true
    },
    "kernelspec": {
      "name": "python3",
      "display_name": "Python 3"
    },
    "language_info": {
      "name": "python"
    }
  },
  "cells": [
    {
      "cell_type": "markdown",
      "metadata": {
        "id": "view-in-github",
        "colab_type": "text"
      },
      "source": [
        "<a href=\"https://colab.research.google.com/github/wellaamandaa/Tugas-Akhir/blob/main/Tugas_Akhir.ipynb\" target=\"_parent\"><img src=\"https://colab.research.google.com/assets/colab-badge.svg\" alt=\"Open In Colab\"/></a>"
      ]
    },
    {
      "cell_type": "code",
      "execution_count": null,
      "metadata": {
        "id": "JYhI1QwzZony"
      },
      "outputs": [],
      "source": [
        "# Baris kode mengakses GPU sistem\n",
        "!nvidia-smi"
      ]
    },
    {
      "cell_type": "code",
      "source": [
        "# Baris kode instalasi package Ultralytics\n",
        "!pip install ultralytics"
      ],
      "metadata": {
        "id": "v8enL04hZwzu"
      },
      "execution_count": null,
      "outputs": []
    },
    {
      "cell_type": "code",
      "source": [
        "# Baris kode instalasi Roboflow dan akses dataset\n",
        "!pip install roboflow\n",
        "from roboflow import Roboflow\n",
        "rf = Roboflow(api_key=\"030f5Tof1l0xZs56GRgD\")\n",
        "project = rf.workspace(\"ta-ntme6\").project(\"project-daun-teh\")\n",
        "version = project.version(1)\n",
        "dataset = version.download(\"yolov8\")"
      ],
      "metadata": {
        "id": "BR59DTUaZy9_"
      },
      "execution_count": null,
      "outputs": []
    },
    {
      "cell_type": "code",
      "source": [
        "# Baris kode instalasi pre-trained model\n",
        "import os\n",
        "from ultralytics import YOLO\n",
        "model = YOLO(\"yolov8m\")"
      ],
      "metadata": {
        "id": "SHzbrWxGZ1Kf"
      },
      "execution_count": null,
      "outputs": []
    },
    {
      "cell_type": "code",
      "source": [
        "# Baris kode pelatihan model dengan epoch 50, batch 16 dan learning rate 0.001\n",
        "results = model.train(data=\"/content/project-daun-teh-1/data.yaml\", epochs=50, batch=16, optimizer='AdamW', lr0=0.001)\n"
      ],
      "metadata": {
        "id": "U6WtwWBiZ7Cb"
      },
      "execution_count": null,
      "outputs": []
    },
    {
      "cell_type": "code",
      "source": [
        "# Kode untuk mengakses model yang telah dilatih untuk melakukan validasi menggunakan nilai confidence dan IoU 0.7\n",
        "model = YOLO(\"/content/runs/detect/train/weights/best.pt\")\n",
        "results = model.val(split='val', conf=0.7, iou=0.7)"
      ],
      "metadata": {
        "id": "7d--Oc4bbI3b"
      },
      "execution_count": null,
      "outputs": []
    },
    {
      "cell_type": "code",
      "source": [
        "# Kode untuk mengakses model yang telah dilatih untuk melakukan testing menggunakan nilai confidence dan IoU 0.7\n",
        "model = YOLO(\"/content/runs/detect/train/weights/best.pt\")\n",
        "results = model.val(split='test', conf=0.7, iou=0.7)"
      ],
      "metadata": {
        "id": "drOg0Frvbc0-"
      },
      "execution_count": null,
      "outputs": []
    }
  ]
}